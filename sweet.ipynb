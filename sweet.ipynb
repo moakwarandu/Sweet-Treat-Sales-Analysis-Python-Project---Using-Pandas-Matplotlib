{
 "cells": [
  {
   "cell_type": "markdown",
   "id": "b76c939e",
   "metadata": {},
   "source": [
    "## Introduction\n",
    "\n",
    "This Python project is designed to analyze sales data for Sweet Treat Company, a company that sells ice cream, frozen yogurt, popsicles, and other frozen treats. The data includes information about sales by month, year, product type, salesperson, region, and unit and dollar sales. \n",
    "\n",
    "\n",
    "## Problem Statement\n",
    "\n",
    "Sweet Treat Company wants to gain insights into their sales data to identify trends, understand what products are selling well in different regions, and inform future business decisions. \n",
    "\n",
    "\n",
    "## Skills Demonstrated\n",
    "\n",
    "This project demonstrates the following skills:\n",
    "\n",
    "* Python programming\n",
    "* Data analysis with pandas\n",
    "* Data visualization with matplotlib\n",
    "\n",
    "\n",
    "\n",
    "## Data Sourcing\n",
    "\n",
    "The data for this project is a table in a csv format imported into the data frame using Pandas.\n",
    "\n",
    "\n",
    "\n",
    "## Data Transformation\n",
    "\n",
    "The data was transformed before it was analyzed. The following was carried out to transform the data:\n",
    "\n",
    "* Handling missing values\n",
    "* Converting data types\n",
    "* Creating new variables\n",
    "\n",
    "\n",
    "\n"
   ]
  },
  {
   "cell_type": "markdown",
   "id": "d0fa9414",
   "metadata": {},
   "source": [
    "## Modeling\n",
    "\n",
    "No statistical models are used in this analysis. However, I used pandas to perform various data aggregations and calculations on the data.  For example, I could calculated the total sales for each product type and the average sales per salesperson.\n",
    "\n",
    "\n",
    "## Analysis and Visualization\n",
    "\n",
    "I used pandas to group and aggregate the data by different categories, such as product type, month, or region.  It hen use matplotlib to create charts to visualize the data.\n",
    "\n",
    "Here are some examples of charts I created:\n",
    "\n",
    "* A bar chart showing total sales by product type\n",
    "* A line chart showing sales trends over time\n",
    "* A pie chart showing the proportion of sales in each region"
   ]
  },
  {
   "cell_type": "markdown",
   "id": "9f6d67a5",
   "metadata": {},
   "source": [
    "# Let's Explore The Data!"
   ]
  },
  {
   "cell_type": "code",
   "execution_count": 9,
   "id": "20e6a89f",
   "metadata": {},
   "outputs": [],
   "source": [
    "import pandas as pd"
   ]
  },
  {
   "cell_type": "code",
   "execution_count": 10,
   "id": "57d21c92",
   "metadata": {},
   "outputs": [],
   "source": [
    " data = pd.read_csv(\"sweet.csv\")"
   ]
  },
  {
   "cell_type": "markdown",
   "id": "b97b07ae",
   "metadata": {},
   "source": [
    "**Here, I imported the csv file into the Pandas dataframe and I ran some statistical anlysis on it.**\n"
   ]
  },
  {
   "cell_type": "code",
   "execution_count": 13,
   "id": "60446fbc",
   "metadata": {
    "scrolled": true
   },
   "outputs": [
    {
     "data": {
      "text/html": [
       "<div>\n",
       "<style scoped>\n",
       "    .dataframe tbody tr th:only-of-type {\n",
       "        vertical-align: middle;\n",
       "    }\n",
       "\n",
       "    .dataframe tbody tr th {\n",
       "        vertical-align: top;\n",
       "    }\n",
       "\n",
       "    .dataframe thead th {\n",
       "        text-align: right;\n",
       "    }\n",
       "</style>\n",
       "<table border=\"1\" class=\"dataframe\">\n",
       "  <thead>\n",
       "    <tr style=\"text-align: right;\">\n",
       "      <th></th>\n",
       "      <th>Month</th>\n",
       "      <th>Year</th>\n",
       "      <th>Type</th>\n",
       "      <th>Salesperson</th>\n",
       "      <th>Region</th>\n",
       "      <th>Sales</th>\n",
       "      <th>Units</th>\n",
       "    </tr>\n",
       "  </thead>\n",
       "  <tbody>\n",
       "    <tr>\n",
       "      <th>0</th>\n",
       "      <td>January</td>\n",
       "      <td>2019</td>\n",
       "      <td>Ice Cream</td>\n",
       "      <td>Bishop</td>\n",
       "      <td>North</td>\n",
       "      <td>$8,180</td>\n",
       "      <td>5453</td>\n",
       "    </tr>\n",
       "    <tr>\n",
       "      <th>1</th>\n",
       "      <td>January</td>\n",
       "      <td>2019</td>\n",
       "      <td>Frozen Yogurt</td>\n",
       "      <td>Pullen</td>\n",
       "      <td>Central</td>\n",
       "      <td>$3,897</td>\n",
       "      <td>2598</td>\n",
       "    </tr>\n",
       "    <tr>\n",
       "      <th>2</th>\n",
       "      <td>January</td>\n",
       "      <td>2019</td>\n",
       "      <td>Tasty Treats</td>\n",
       "      <td>Watson</td>\n",
       "      <td>Central</td>\n",
       "      <td>$12,371</td>\n",
       "      <td>8247</td>\n",
       "    </tr>\n",
       "    <tr>\n",
       "      <th>3</th>\n",
       "      <td>January</td>\n",
       "      <td>2019</td>\n",
       "      <td>Ice Cream</td>\n",
       "      <td>Bishop</td>\n",
       "      <td>Central</td>\n",
       "      <td>$10,992</td>\n",
       "      <td>7328</td>\n",
       "    </tr>\n",
       "    <tr>\n",
       "      <th>4</th>\n",
       "      <td>January</td>\n",
       "      <td>2019</td>\n",
       "      <td>Popsicles</td>\n",
       "      <td>Pullen</td>\n",
       "      <td>Central</td>\n",
       "      <td>$3,084</td>\n",
       "      <td>2056</td>\n",
       "    </tr>\n",
       "    <tr>\n",
       "      <th>...</th>\n",
       "      <td>...</td>\n",
       "      <td>...</td>\n",
       "      <td>...</td>\n",
       "      <td>...</td>\n",
       "      <td>...</td>\n",
       "      <td>...</td>\n",
       "      <td>...</td>\n",
       "    </tr>\n",
       "    <tr>\n",
       "      <th>159</th>\n",
       "      <td>November</td>\n",
       "      <td>2020</td>\n",
       "      <td>Frozen Yogurt</td>\n",
       "      <td>Bishop</td>\n",
       "      <td>North</td>\n",
       "      <td>$1,121</td>\n",
       "      <td>747</td>\n",
       "    </tr>\n",
       "    <tr>\n",
       "      <th>160</th>\n",
       "      <td>December</td>\n",
       "      <td>2020</td>\n",
       "      <td>Tasty Treats</td>\n",
       "      <td>Watson</td>\n",
       "      <td>North</td>\n",
       "      <td>$10,321</td>\n",
       "      <td>6881</td>\n",
       "    </tr>\n",
       "    <tr>\n",
       "      <th>161</th>\n",
       "      <td>December</td>\n",
       "      <td>2020</td>\n",
       "      <td>Ice Cream</td>\n",
       "      <td>Watson</td>\n",
       "      <td>West</td>\n",
       "      <td>$14,229</td>\n",
       "      <td>9486</td>\n",
       "    </tr>\n",
       "    <tr>\n",
       "      <th>162</th>\n",
       "      <td>December</td>\n",
       "      <td>2020</td>\n",
       "      <td>Popsicles</td>\n",
       "      <td>Bishop</td>\n",
       "      <td>West</td>\n",
       "      <td>$11,014</td>\n",
       "      <td>7343</td>\n",
       "    </tr>\n",
       "    <tr>\n",
       "      <th>163</th>\n",
       "      <td>December</td>\n",
       "      <td>2020</td>\n",
       "      <td>Ice Cream</td>\n",
       "      <td>Pullen</td>\n",
       "      <td>North</td>\n",
       "      <td>$10,978</td>\n",
       "      <td>7319</td>\n",
       "    </tr>\n",
       "  </tbody>\n",
       "</table>\n",
       "<p>164 rows × 7 columns</p>\n",
       "</div>"
      ],
      "text/plain": [
       "        Month  Year           Type Salesperson   Region    Sales  Units\n",
       "0     January  2019      Ice Cream      Bishop    North   $8,180   5453\n",
       "1     January  2019  Frozen Yogurt      Pullen  Central   $3,897   2598\n",
       "2     January  2019   Tasty Treats      Watson  Central  $12,371   8247\n",
       "3     January  2019      Ice Cream      Bishop  Central  $10,992   7328\n",
       "4     January  2019      Popsicles      Pullen  Central   $3,084   2056\n",
       "..        ...   ...            ...         ...      ...      ...    ...\n",
       "159  November  2020  Frozen Yogurt      Bishop    North   $1,121    747\n",
       "160  December  2020   Tasty Treats      Watson    North  $10,321   6881\n",
       "161  December  2020      Ice Cream      Watson     West  $14,229   9486\n",
       "162  December  2020      Popsicles      Bishop     West  $11,014   7343\n",
       "163  December  2020      Ice Cream      Pullen    North  $10,978   7319\n",
       "\n",
       "[164 rows x 7 columns]"
      ]
     },
     "execution_count": 13,
     "metadata": {},
     "output_type": "execute_result"
    }
   ],
   "source": [
    "data"
   ]
  },
  {
   "cell_type": "code",
   "execution_count": 14,
   "id": "689f80fa",
   "metadata": {},
   "outputs": [
    {
     "data": {
      "text/plain": [
       "(164, 7)"
      ]
     },
     "execution_count": 14,
     "metadata": {},
     "output_type": "execute_result"
    }
   ],
   "source": [
    "data.shape"
   ]
  },
  {
   "cell_type": "code",
   "execution_count": 15,
   "id": "367c3537",
   "metadata": {},
   "outputs": [
    {
     "data": {
      "text/plain": [
       "<bound method DataFrame.info of         Month  Year           Type Salesperson   Region    Sales  Units\n",
       "0     January  2019      Ice Cream      Bishop    North   $8,180   5453\n",
       "1     January  2019  Frozen Yogurt      Pullen  Central   $3,897   2598\n",
       "2     January  2019   Tasty Treats      Watson  Central  $12,371   8247\n",
       "3     January  2019      Ice Cream      Bishop  Central  $10,992   7328\n",
       "4     January  2019      Popsicles      Pullen  Central   $3,084   2056\n",
       "..        ...   ...            ...         ...      ...      ...    ...\n",
       "159  November  2020  Frozen Yogurt      Bishop    North   $1,121    747\n",
       "160  December  2020   Tasty Treats      Watson    North  $10,321   6881\n",
       "161  December  2020      Ice Cream      Watson     West  $14,229   9486\n",
       "162  December  2020      Popsicles      Bishop     West  $11,014   7343\n",
       "163  December  2020      Ice Cream      Pullen    North  $10,978   7319\n",
       "\n",
       "[164 rows x 7 columns]>"
      ]
     },
     "execution_count": 15,
     "metadata": {},
     "output_type": "execute_result"
    }
   ],
   "source": [
    "data.info"
   ]
  },
  {
   "cell_type": "code",
   "execution_count": 17,
   "id": "4cde7a71",
   "metadata": {},
   "outputs": [
    {
     "data": {
      "text/html": [
       "<div>\n",
       "<style scoped>\n",
       "    .dataframe tbody tr th:only-of-type {\n",
       "        vertical-align: middle;\n",
       "    }\n",
       "\n",
       "    .dataframe tbody tr th {\n",
       "        vertical-align: top;\n",
       "    }\n",
       "\n",
       "    .dataframe thead th {\n",
       "        text-align: right;\n",
       "    }\n",
       "</style>\n",
       "<table border=\"1\" class=\"dataframe\">\n",
       "  <thead>\n",
       "    <tr style=\"text-align: right;\">\n",
       "      <th></th>\n",
       "      <th>Year</th>\n",
       "      <th>Units</th>\n",
       "    </tr>\n",
       "  </thead>\n",
       "  <tbody>\n",
       "    <tr>\n",
       "      <th>count</th>\n",
       "      <td>164.000000</td>\n",
       "      <td>164.000000</td>\n",
       "    </tr>\n",
       "    <tr>\n",
       "      <th>mean</th>\n",
       "      <td>2019.500000</td>\n",
       "      <td>6336.201220</td>\n",
       "    </tr>\n",
       "    <tr>\n",
       "      <th>std</th>\n",
       "      <td>0.501531</td>\n",
       "      <td>3943.674017</td>\n",
       "    </tr>\n",
       "    <tr>\n",
       "      <th>min</th>\n",
       "      <td>2019.000000</td>\n",
       "      <td>157.000000</td>\n",
       "    </tr>\n",
       "    <tr>\n",
       "      <th>25%</th>\n",
       "      <td>2019.000000</td>\n",
       "      <td>3084.000000</td>\n",
       "    </tr>\n",
       "    <tr>\n",
       "      <th>50%</th>\n",
       "      <td>2019.500000</td>\n",
       "      <td>5925.000000</td>\n",
       "    </tr>\n",
       "    <tr>\n",
       "      <th>75%</th>\n",
       "      <td>2020.000000</td>\n",
       "      <td>8942.000000</td>\n",
       "    </tr>\n",
       "    <tr>\n",
       "      <th>max</th>\n",
       "      <td>2020.000000</td>\n",
       "      <td>14648.000000</td>\n",
       "    </tr>\n",
       "  </tbody>\n",
       "</table>\n",
       "</div>"
      ],
      "text/plain": [
       "              Year         Units\n",
       "count   164.000000    164.000000\n",
       "mean   2019.500000   6336.201220\n",
       "std       0.501531   3943.674017\n",
       "min    2019.000000    157.000000\n",
       "25%    2019.000000   3084.000000\n",
       "50%    2019.500000   5925.000000\n",
       "75%    2020.000000   8942.000000\n",
       "max    2020.000000  14648.000000"
      ]
     },
     "execution_count": 17,
     "metadata": {},
     "output_type": "execute_result"
    }
   ],
   "source": [
    "data.describe()"
   ]
  },
  {
   "cell_type": "code",
   "execution_count": 30,
   "id": "d1ff52f2",
   "metadata": {},
   "outputs": [],
   "source": [
    "import pandas as pd\n",
    "import matplotlib.pyplot as plt\n"
   ]
  },
  {
   "cell_type": "markdown",
   "id": "bc5e9e16",
   "metadata": {},
   "source": [
    "**Let's Explore the data now!**\n",
    "\n",
    "Here are 4 problems I solved using the Sweet Treat Company data and visualize with Pandas and Matplotlib:\n",
    "\n",
    "\n",
    "## 1. Top Selling Products:\n",
    "\n",
    "**Problem 1**: Identify the top 3 best-selling product types.\n",
    " "
   ]
  },
  {
   "cell_type": "code",
   "execution_count": 55,
   "id": "2fb9b404",
   "metadata": {},
   "outputs": [],
   "source": [
    " data = pd.read_csv(\"sweet.csv\")"
   ]
  },
  {
   "cell_type": "code",
   "execution_count": 57,
   "id": "c12be2b4",
   "metadata": {},
   "outputs": [
    {
     "data": {
      "text/html": [
       "<div>\n",
       "<style scoped>\n",
       "    .dataframe tbody tr th:only-of-type {\n",
       "        vertical-align: middle;\n",
       "    }\n",
       "\n",
       "    .dataframe tbody tr th {\n",
       "        vertical-align: top;\n",
       "    }\n",
       "\n",
       "    .dataframe thead th {\n",
       "        text-align: right;\n",
       "    }\n",
       "</style>\n",
       "<table border=\"1\" class=\"dataframe\">\n",
       "  <thead>\n",
       "    <tr style=\"text-align: right;\">\n",
       "      <th></th>\n",
       "      <th>Month</th>\n",
       "      <th>Year</th>\n",
       "      <th>Type</th>\n",
       "      <th>Salesperson</th>\n",
       "      <th>Region</th>\n",
       "      <th>Sales</th>\n",
       "      <th>Units</th>\n",
       "    </tr>\n",
       "  </thead>\n",
       "  <tbody>\n",
       "    <tr>\n",
       "      <th>0</th>\n",
       "      <td>January</td>\n",
       "      <td>2019</td>\n",
       "      <td>Ice Cream</td>\n",
       "      <td>Bishop</td>\n",
       "      <td>North</td>\n",
       "      <td>$8,180</td>\n",
       "      <td>5453</td>\n",
       "    </tr>\n",
       "    <tr>\n",
       "      <th>1</th>\n",
       "      <td>January</td>\n",
       "      <td>2019</td>\n",
       "      <td>Frozen Yogurt</td>\n",
       "      <td>Pullen</td>\n",
       "      <td>Central</td>\n",
       "      <td>$3,897</td>\n",
       "      <td>2598</td>\n",
       "    </tr>\n",
       "    <tr>\n",
       "      <th>2</th>\n",
       "      <td>January</td>\n",
       "      <td>2019</td>\n",
       "      <td>Tasty Treats</td>\n",
       "      <td>Watson</td>\n",
       "      <td>Central</td>\n",
       "      <td>$12,371</td>\n",
       "      <td>8247</td>\n",
       "    </tr>\n",
       "    <tr>\n",
       "      <th>3</th>\n",
       "      <td>January</td>\n",
       "      <td>2019</td>\n",
       "      <td>Ice Cream</td>\n",
       "      <td>Bishop</td>\n",
       "      <td>Central</td>\n",
       "      <td>$10,992</td>\n",
       "      <td>7328</td>\n",
       "    </tr>\n",
       "    <tr>\n",
       "      <th>4</th>\n",
       "      <td>January</td>\n",
       "      <td>2019</td>\n",
       "      <td>Popsicles</td>\n",
       "      <td>Pullen</td>\n",
       "      <td>Central</td>\n",
       "      <td>$3,084</td>\n",
       "      <td>2056</td>\n",
       "    </tr>\n",
       "    <tr>\n",
       "      <th>5</th>\n",
       "      <td>February</td>\n",
       "      <td>2019</td>\n",
       "      <td>Ice Cream</td>\n",
       "      <td>Watson</td>\n",
       "      <td>Central</td>\n",
       "      <td>$13,232</td>\n",
       "      <td>8821</td>\n",
       "    </tr>\n",
       "    <tr>\n",
       "      <th>6</th>\n",
       "      <td>February</td>\n",
       "      <td>2019</td>\n",
       "      <td>Frozen Yogurt</td>\n",
       "      <td>Bishop</td>\n",
       "      <td>West</td>\n",
       "      <td>$8,832</td>\n",
       "      <td>5888</td>\n",
       "    </tr>\n",
       "    <tr>\n",
       "      <th>7</th>\n",
       "      <td>February</td>\n",
       "      <td>2019</td>\n",
       "      <td>Tasty Treats</td>\n",
       "      <td>Pullen</td>\n",
       "      <td>North</td>\n",
       "      <td>$3,548</td>\n",
       "      <td>2365</td>\n",
       "    </tr>\n",
       "    <tr>\n",
       "      <th>8</th>\n",
       "      <td>February</td>\n",
       "      <td>2019</td>\n",
       "      <td>Ice Cream</td>\n",
       "      <td>Bishop</td>\n",
       "      <td>West</td>\n",
       "      <td>$13,413</td>\n",
       "      <td>8942</td>\n",
       "    </tr>\n",
       "    <tr>\n",
       "      <th>9</th>\n",
       "      <td>February</td>\n",
       "      <td>2019</td>\n",
       "      <td>Popsicles</td>\n",
       "      <td>Bishop</td>\n",
       "      <td>West</td>\n",
       "      <td>$4,026</td>\n",
       "      <td>2684</td>\n",
       "    </tr>\n",
       "  </tbody>\n",
       "</table>\n",
       "</div>"
      ],
      "text/plain": [
       "      Month  Year           Type Salesperson   Region    Sales  Units\n",
       "0   January  2019      Ice Cream      Bishop    North   $8,180   5453\n",
       "1   January  2019  Frozen Yogurt      Pullen  Central   $3,897   2598\n",
       "2   January  2019   Tasty Treats      Watson  Central  $12,371   8247\n",
       "3   January  2019      Ice Cream      Bishop  Central  $10,992   7328\n",
       "4   January  2019      Popsicles      Pullen  Central   $3,084   2056\n",
       "5  February  2019      Ice Cream      Watson  Central  $13,232   8821\n",
       "6  February  2019  Frozen Yogurt      Bishop     West   $8,832   5888\n",
       "7  February  2019   Tasty Treats      Pullen    North   $3,548   2365\n",
       "8  February  2019      Ice Cream      Bishop     West  $13,413   8942\n",
       "9  February  2019      Popsicles      Bishop     West   $4,026   2684"
      ]
     },
     "execution_count": 57,
     "metadata": {},
     "output_type": "execute_result"
    }
   ],
   "source": [
    "data.head(10)"
   ]
  },
  {
   "cell_type": "code",
   "execution_count": 58,
   "id": "9cd72fea",
   "metadata": {},
   "outputs": [
    {
     "name": "stdout",
     "output_type": "stream",
     "text": [
      "Salesperson\n",
      "Ice Cream        458200544\n",
      "Tasty Treats     159200612\n",
      "Frozen Yogurt    127298486\n",
      "Name: SalesUnits, dtype: int64\n"
     ]
    }
   ],
   "source": [
    "import pandas as pd\n",
    "\n",
    "# Create a DataFrame from the provided data\n",
    "data = {\n",
    "    'MonthYearType': ['January2019', 'January2019', 'January2019', 'January2019', 'January2019', 'February2019', 'February2019', 'February2019', 'February2019', 'February2019'],\n",
    "    'Salesperson': ['Ice Cream', 'Frozen Yogurt', 'Tasty Treats', 'Ice Cream', 'Popsicles', 'Ice Cream', 'Frozen Yogurt', 'Tasty Treats', 'Ice Cream', 'Popsicles'],\n",
    "    'Region': ['BishopNorth', 'Central', 'Central', 'Central', 'Central', 'Central', 'West', 'North', 'West', 'West'],\n",
    "    'SalesUnits': [81805453, 38972598, 123718247, 109927328, 30842056, 132328821, 88325888, 35482365, 134138942, 40262684]\n",
    "}\n",
    "\n",
    "df = pd.DataFrame(data)\n",
    "\n",
    "# Group data by 'Salesperson' and sum 'SalesUnits'\n",
    "product_sales = df.groupby('Salesperson')['SalesUnits'].sum()\n",
    "\n",
    "# Sort data by 'SalesUnits' in descending order and select the top 3\n",
    "top_3_products = product_sales.sort_values(ascending=False).head(3)\n",
    "\n",
    "# Print the top 3 best-selling product types\n",
    "print(top_3_products)"
   ]
  },
  {
   "cell_type": "code",
   "execution_count": 60,
   "id": "3bbb87ea",
   "metadata": {},
   "outputs": [
    {
     "data": {
      "image/png": "[encoded data removed]",
      "text/plain": [
       "<Figure size 800x600 with 1 Axes>"
      ]
     },
     "metadata": {},
     "output_type": "display_data"
    }
   ],
   "source": [
    "# Create a Matplotlib bar chart\n",
    "plt.figure(figsize=(8, 6))\n",
    "top_3_products.plot(kind='bar', color=['skyblue', 'lightgreen', 'lightcoral'])\n",
    "plt.title('Top 3 Best-Selling Products (Sales Units)')\n",
    "plt.xlabel('Salesperson')\n",
    "plt.ylabel('Sales Units (Millions)')\n",
    "plt.xticks(rotation=0)  # Rotate x-axis labels for better readability\n",
    "plt.grid(axis='y', linestyle='--', alpha=0.7)\n",
    "\n",
    "# Display the chart\n",
    "plt.tight_layout()\n",
    "plt.show()"
   ]
  },
  {
   "cell_type": "markdown",
   "id": "27b477a2",
   "metadata": {},
   "source": [
    "## 2. Sales Performance by Region:\n",
    "\n",
    "**Problem**:  Compare the total sales performance across different regions."
   ]
  },
  {
   "cell_type": "code",
   "execution_count": 61,
   "id": "c29b29fe",
   "metadata": {},
   "outputs": [
    {
     "name": "stdout",
     "output_type": "stream",
     "text": [
      "Region\n",
      "BishopNorth     81805453\n",
      "Central        435789050\n",
      "North           35482365\n",
      "West           262727514\n",
      "Name: SalesUnits, dtype: int64\n"
     ]
    }
   ],
   "source": [
    "df = pd.DataFrame(data)\n",
    "\n",
    "# Group data by 'Region' and sum 'SalesUnits'\n",
    "region_sales = df.groupby('Region')['SalesUnits'].sum()\n",
    "\n",
    "# Print the result\n",
    "print(region_sales)"
   ]
  },
  {
   "cell_type": "code",
   "execution_count": 69,
   "id": "5ab48e3b",
   "metadata": {},
   "outputs": [
    {
     "data": {
      "image/png": "[encoded data removed]",
      "text/plain": [
       "<Figure size 800x800 with 1 Axes>"
      ]
     },
     "metadata": {},
     "output_type": "display_data"
    }
   ],
   "source": [
    "# Matplotlib Chart (Pie Chart):\n",
    "\n",
    "# Create a Pie Chart\n",
    "plt.figure(figsize=(8, 8))\n",
    "plt.pie(region_sales, labels=region_sales.index, autopct=\"%1.1f%%\")\n",
    "plt.title(\"Sales Performance by Region\")\n",
    "plt.show()"
   ]
  },
  {
   "cell_type": "markdown",
   "id": "5931b0bb",
   "metadata": {},
   "source": [
    "## 3. Sales Trend Over Time:\n",
    "\n",
    "**Problem**: Analyze the sales trend over time (by month) to identify seasonal patterns."
   ]
  },
  {
   "cell_type": "code",
   "execution_count": 63,
   "id": "84bc87b3",
   "metadata": {},
   "outputs": [
    {
     "name": "stdout",
     "output_type": "stream",
     "text": [
      "Month\n",
      "Februar    430538700\n",
      "January    385265682\n",
      "Name: SalesUnits, dtype: int64\n"
     ]
    }
   ],
   "source": [
    "\n",
    "df = pd.DataFrame(data)\n",
    "\n",
    "# Get month from 'MonthYearType' column\n",
    "df['Month'] = df['MonthYearType'].str[:7]\n",
    "\n",
    "# Group data by 'Month' and sum 'SalesUnits'\n",
    "monthly_sales = df.groupby('Month')['SalesUnits'].sum()\n",
    "\n",
    "# Print the monthly sales\n",
    "print(monthly_sales)"
   ]
  },
  {
   "cell_type": "code",
   "execution_count": 70,
   "id": "7885d85d",
   "metadata": {},
   "outputs": [
    {
     "data": {
      "image/png": "[encoded data removed]",
      "text/plain": [
       "<Figure size 1000x600 with 1 Axes>"
      ]
     },
     "metadata": {},
     "output_type": "display_data"
    }
   ],
   "source": [
    "# Matplotlib Chart (line Chart):\n",
    "\n",
    "# Create a line chart\n",
    "plt.figure(figsize=(10, 6))\n",
    "monthly_sales.plot(kind='line', marker='o', color='b')\n",
    "plt.title(\"Sales Trend Over Time (Monthly)\")\n",
    "plt.xlabel(\"Month\")\n",
    "plt.ylabel(\"Sales Units\")\n",
    "plt.grid(True)\n",
    "plt.show()"
   ]
  },
  {
   "cell_type": "markdown",
   "id": "e0586d9f",
   "metadata": {},
   "source": [
    "## 4. Salesperson Performance:\n",
    "\n",
    "**Problem**: Identify the top performing salesperson(s) in terms of total sales."
   ]
  },
  {
   "cell_type": "code",
   "execution_count": 65,
   "id": "c417f161",
   "metadata": {},
   "outputs": [
    {
     "name": "stdout",
     "output_type": "stream",
     "text": [
      "Salesperson\n",
      "Ice Cream    458200544\n",
      "Name: SalesUnits, dtype: int64\n"
     ]
    }
   ],
   "source": [
    "df = pd.DataFrame(data)\n",
    "\n",
    "# Group data by 'Salesperson' and sum 'SalesUnits'\n",
    "top_salesperson = df.groupby('Salesperson')['SalesUnits'].sum()\n",
    "\n",
    "# Sort 'top_salesperson' Series by descending order\n",
    "top_salesperson = top_salesperson.sort_values(ascending=False)\n",
    "\n",
    "# Print the top performing salesperson(s) and their total sales\n",
    "print(top_salesperson.head(1))"
   ]
  },
  {
   "cell_type": "code",
   "execution_count": 71,
   "id": "d3e39784",
   "metadata": {},
   "outputs": [
    {
     "data": {
      "image/png": "[encoded data removed]",
      "text/plain": [
       "<Figure size 640x480 with 1 Axes>"
      ]
     },
     "metadata": {},
     "output_type": "display_data"
    }
   ],
   "source": [
    "# Matplotlib Chart (bar Chart):\n",
    "\n",
    "# Create a bar chart of the top salesperson performance\n",
    "plt.bar(top_salesperson.index, top_salesperson.values)\n",
    "plt.xlabel('Salesperson')\n",
    "plt.ylabel('Total Sales Units')\n",
    "plt.title('Top Salesperson Performance')\n",
    "plt.xticks(rotation=45)  # Rotate x-axis labels for better readability\n",
    "plt.tight_layout()\n",
    "plt.show()"
   ]
  },
  {
   "cell_type": "markdown",
   "id": "dc4a94f0",
   "metadata": {},
   "source": [
    "## Conclusion and Recommendations\n",
    "\n",
    "This data analysis provides Sweet Treat Company with some insights into their sales data. The company can use this information to:\n",
    "\n",
    "* Identify which products are selling well and which ones are not\n",
    "* See if there are any seasonal trends in sales\n",
    "* Understand how sales vary by region\n",
    "\n",
    "Based on these insights, Sweet Treat Company can make data-driven decisions about their business, such as:\n",
    "\n",
    "* Allocating more resources to marketing and promotion for certain products\n",
    "* Adjusting production levels to meet demand\n",
    "* Expanding into new regions"
   ]
  },
  {
   "cell_type": "code",
   "execution_count": null,
   "id": "a324065c",
   "metadata": {},
   "outputs": [],
   "source": []
  }
 ],
 "metadata": {
  "kernelspec": {
   "display_name": "Python 3 (ipykernel)",
   "language": "python",
   "name": "python3"
  },
  "language_info": {
   "codemirror_mode": {
    "name": "ipython",
    "version": 3
   },
   "file_extension": ".py",
   "mimetype": "text/x-python",
   "name": "python",
   "nbconvert_exporter": "python",
   "pygments_lexer": "ipython3",
   "version": "3.11.5"
  }
 },
 "nbformat": 4,
 "nbformat_minor": 5
}
